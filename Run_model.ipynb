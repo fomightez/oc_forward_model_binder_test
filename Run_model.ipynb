{
 "cells": [
  {
   "cell_type": "code",
   "execution_count": 1,
   "id": "602e5727",
   "metadata": {},
   "outputs": [],
   "source": [
    "%matplotlib widget\n",
    "import forward_model"
   ]
  },
  {
   "cell_type": "code",
   "execution_count": 2,
   "id": "fe34b37b",
   "metadata": {
    "scrolled": false
   },
   "outputs": [
    {
     "data": {
      "application/vnd.jupyter.widget-view+json": {
       "model_id": "ad872c6967fc46ce9a49f26fe448f728",
       "version_major": 2,
       "version_minor": 0
      },
      "text/plain": [
       "ForwardModel(children=(VBox(children=(FloatLogSlider(value=1.0, description='Chlorophyll', max=3.0, min=-3.0, …"
      ]
     },
     "metadata": {},
     "output_type": "display_data"
    }
   ],
   "source": [
    "forward_model.ForwardModel()"
   ]
  },
  {
   "cell_type": "code",
   "execution_count": null,
   "id": "8fd55b7e",
   "metadata": {},
   "outputs": [],
   "source": []
  }
 ],
 "metadata": {
  "kernelspec": {
   "display_name": "Python 3 (ipykernel)",
   "language": "python",
   "name": "python3"
  },
  "language_info": {
   "codemirror_mode": {
    "name": "ipython",
    "version": 3
   },
   "file_extension": ".py",
   "mimetype": "text/x-python",
   "name": "python",
   "nbconvert_exporter": "python",
   "pygments_lexer": "ipython3",
   "version": "3.9.12"
  }
 },
 "nbformat": 4,
 "nbformat_minor": 5
}

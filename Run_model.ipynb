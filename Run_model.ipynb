{
 "cells": [
  {
   "cell_type": "markdown",
   "id": "fd012d10",
   "metadata": {},
   "source": [
    "<img src='https://gitlab.eumetsat.int/eumetlab/oceans/ocean-training/tools/frameworks/-/raw/main/img/RBINS_banner.png' align='right' width='100%'/>"
   ]
  },
  {
   "cell_type": "markdown",
   "id": "2aaf5d57",
   "metadata": {},
   "source": [
    "<font color=\"#138D75\">**Copernicus Marine Training Service**</font> <br>\n",
    "**Copyright:** 2022 EUMETSAT, RBINS <br>\n",
    "**License:** MIT"
   ]
  },
  {
   "cell_type": "markdown",
   "id": "22037f27",
   "metadata": {},
   "source": [
    "<div class=\"alert alert-block alert-success\">\n",
    "<h3>Ocean colour applications</h3></div>"
   ]
  },
  {
   "cell_type": "markdown",
   "id": "c590dc15",
   "metadata": {},
   "source": [
    "<div class=\"alert alert-block alert-warning\">\n",
    "    \n",
    "<b>PREREQUISITES </b>\n",
    "    \n",
    "This notebook has the following prerequisites:\n",
    "- You should have built and activated the appropriate `oc_forward_model` Python environment in either your command line, or in the Anaconda navigator prior to launching this notebook.\n",
    "\n",
    "</div>\n",
    "<hr>"
   ]
  },
  {
   "cell_type": "markdown",
   "id": "9905be0b",
   "metadata": {},
   "source": [
    "# The Ocean Colour forward model\n",
    "\n",
    "preamble\n",
    "\n",
    "<div class=\"alert alert-info\" role=\"alert\">\n",
    "\n",
    "## <a id='TOC_TOP'></a>Contents\n",
    "\n",
    "</div>\n",
    "    \n",
    " 1. [Background to the model](#section1)\n",
    " 1. [Setting up the model](#section2)\n",
    " 1. [Running the model](#section3)\n",
    "\n",
    "<hr>"
   ]
  },
  {
   "cell_type": "markdown",
   "id": "4d35d7ea",
   "metadata": {},
   "source": [
    "<div class=\"alert alert-info\" role=\"alert\">\n",
    "\n",
    "## <a id='section1'></a>1. Background to the model\n",
    "[Back to top](#TOC_TOP)\n",
    "\n",
    "</div>"
   ]
  },
  {
   "cell_type": "markdown",
   "id": "d0837c8c",
   "metadata": {},
   "source": [
    "Science preamble"
   ]
  },
  {
   "cell_type": "markdown",
   "id": "cbde77c2",
   "metadata": {},
   "source": [
    "<div class=\"alert alert-info\" role=\"alert\">\n",
    "\n",
    "## <a id='section2'></a>2. Setting up the model\n",
    "[Back to top](#TOC_TOP)\n",
    "\n",
    "</div>"
   ]
  },
  {
   "cell_type": "markdown",
   "id": "37edf1f1",
   "metadata": {},
   "source": [
    "The forward model is built entirely in Python and can be simply imported using the single line below. Should you wish to explore the code, you can find the models modules in the `forward_model` folder in the same directory of this notebook. "
   ]
  },
  {
   "cell_type": "code",
   "execution_count": 1,
   "id": "602e5727",
   "metadata": {},
   "outputs": [],
   "source": [
    "%matplotlib widget\n",
    "import forward_model"
   ]
  },
  {
   "cell_type": "markdown",
   "id": "02726cb8",
   "metadata": {},
   "source": [
    "Now that the components of the model are imported we can initialise it using the `forward_model.ForwardModel()` method. We shall choose to save this into a variable called `model` so that we can manipulate some of its attributes, should we want to.\n",
    "\n",
    "*Note: For example, if you want to change the ylimits of the Rrs axis you can use `model.ax_rrs.set_ylim([lower, upper])`*"
   ]
  },
  {
   "cell_type": "code",
   "execution_count": 2,
   "id": "fe34b37b",
   "metadata": {
    "scrolled": false
   },
   "outputs": [],
   "source": [
    "model = forward_model.ForwardModel()"
   ]
  },
  {
   "cell_type": "markdown",
   "id": "64be01e4",
   "metadata": {},
   "source": [
    "<div class=\"alert alert-info\" role=\"alert\">\n",
    "\n",
    "## <a id='section3'></a>3. Running the model\n",
    "[Back to top](#TOC_TOP)\n",
    "\n",
    "</div>"
   ]
  },
  {
   "cell_type": "markdown",
   "id": "8b30eb1d",
   "metadata": {},
   "source": [
    "The model is now fully set up, and we can run/display it just by calling the model object, as follows. You can interact with the model using the sliders in the left hand panel. Manipulating these influence the traces in the right hand panel. If you want to save a spectra you create, you can use the \"Save spectra\" button, this will output your spectra to a text file called Saved_spectra.txt in the current directory. The buttons have the following functionalities:\n",
    "\n",
    "* `Show sample R$_{rs}$ spectra`: shows the hyperspectral R$_{rs}$ examples included in the model.\n",
    "* `Show user R$_{rs}$ spectra`: shows the example multi-spectral examples included in the model.\n",
    "* `Show saved R$_{rs}$ spectra`: shows the hyperspectral R$_{rs}$ you have saved.\n",
    "\n",
    "See what spectra you can create!"
   ]
  },
  {
   "cell_type": "code",
   "execution_count": 3,
   "id": "4b99f7cb",
   "metadata": {
    "scrolled": false
   },
   "outputs": [
    {
     "data": {
      "application/vnd.jupyter.widget-view+json": {
       "model_id": "e3eaed86641d4b2d8979b241bd31bafa",
       "version_major": 2,
       "version_minor": 0
      },
      "text/plain": [
       "ForwardModel(children=(VBox(children=(FloatLogSlider(value=1.0, description='Chl', max=3.0, min=-2.0, step=0.0…"
      ]
     },
     "metadata": {},
     "output_type": "display_data"
    }
   ],
   "source": [
    "model"
   ]
  },
  {
   "cell_type": "markdown",
   "id": "08a88f82",
   "metadata": {},
   "source": [
    "<a href=\"https://gitlab.com/benloveday/oc_forward_model\" target=\"_blank\">View on GitLab</a> | <a href=\"https://training.eumetsat.int/\" target=\"_blank\">EUMETSAT Training</a> | <a href=mailto:ops@eumetsat.int target=\"_blank\">Contact helpdesk for support </a> | <a href=mailto:Copernicus.training@eumetsat.int target=\"_blank\">Contact our training team to collaborate on and reuse this material</a></span></p>"
   ]
  }
 ],
 "metadata": {
  "kernelspec": {
   "display_name": "Python 3 (ipykernel)",
   "language": "python",
   "name": "python3"
  },
  "language_info": {
   "codemirror_mode": {
    "name": "ipython",
    "version": 3
   },
   "file_extension": ".py",
   "mimetype": "text/x-python",
   "name": "python",
   "nbconvert_exporter": "python",
   "pygments_lexer": "ipython3",
   "version": "3.9.12"
  }
 },
 "nbformat": 4,
 "nbformat_minor": 5
}

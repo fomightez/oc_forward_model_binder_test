{
 "cells": [
  {
   "cell_type": "code",
   "execution_count": 1,
   "id": "602e5727",
   "metadata": {},
   "outputs": [],
   "source": [
    "%matplotlib widget\n",
    "import forward_model"
   ]
  },
  {
   "cell_type": "code",
   "execution_count": 2,
   "id": "fe34b37b",
   "metadata": {
    "scrolled": false
   },
   "outputs": [
    {
     "data": {
      "application/vnd.jupyter.widget-view+json": {
       "model_id": "9350a579832d44e79e64f75f38a7193f",
       "version_major": 2,
       "version_minor": 0
      },
      "text/plain": [
       "ForwardModel(children=(VBox(children=(FloatLogSlider(value=1.0, description='chl', max=3.0, min=-3.0, step=0.0…"
      ]
     },
     "metadata": {},
     "output_type": "display_data"
    }
   ],
   "source": [
    "forward_model.ForwardModel()"
   ]
  },
  {
   "cell_type": "code",
   "execution_count": null,
   "id": "4cc2b0e7",
   "metadata": {},
   "outputs": [],
   "source": []
  }
 ],
 "metadata": {
  "kernelspec": {
   "display_name": "Python 3 (ipykernel)",
   "language": "python",
   "name": "python3"
  },
  "language_info": {
   "codemirror_mode": {
    "name": "ipython",
    "version": 3
   },
   "file_extension": ".py",
   "mimetype": "text/x-python",
   "name": "python",
   "nbconvert_exporter": "python",
   "pygments_lexer": "ipython3",
   "version": "3.9.12"
  }
 },
 "nbformat": 4,
 "nbformat_minor": 5
}
